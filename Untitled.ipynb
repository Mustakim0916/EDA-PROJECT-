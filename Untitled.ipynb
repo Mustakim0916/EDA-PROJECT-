{
 "cells": [
  {
   "cell_type": "code",
   "execution_count": 1,
   "id": "31398ba7-b977-4e2c-9612-54245e76085d",
   "metadata": {},
   "outputs": [],
   "source": [
    "import numpy as np\n",
    "import pandas as pd\n",
    "import matplotlib.pyplot as plt\n",
    "import seaborn as sns"
   ]
  },
  {
   "cell_type": "code",
   "execution_count": 3,
   "id": "d6050ffc-1c1f-4551-94db-e2b6f03fca0c",
   "metadata": {},
   "outputs": [
    {
     "data": {
      "text/html": [
       "<div>\n",
       "<style scoped>\n",
       "    .dataframe tbody tr th:only-of-type {\n",
       "        vertical-align: middle;\n",
       "    }\n",
       "\n",
       "    .dataframe tbody tr th {\n",
       "        vertical-align: top;\n",
       "    }\n",
       "\n",
       "    .dataframe thead th {\n",
       "        text-align: right;\n",
       "    }\n",
       "</style>\n",
       "<table border=\"1\" class=\"dataframe\">\n",
       "  <thead>\n",
       "    <tr style=\"text-align: right;\">\n",
       "      <th></th>\n",
       "      <th>Gender_Category</th>\n",
       "      <th>Product_Line</th>\n",
       "      <th>Product_Name</th>\n",
       "      <th>Size</th>\n",
       "      <th>Units_Sold</th>\n",
       "      <th>MRP</th>\n",
       "      <th>Discount_Applied</th>\n",
       "      <th>Revenue</th>\n",
       "      <th>Order_Date</th>\n",
       "      <th>Sales_Channel</th>\n",
       "      <th>Region</th>\n",
       "      <th>Profit</th>\n",
       "    </tr>\n",
       "    <tr>\n",
       "      <th>Order_ID</th>\n",
       "      <th></th>\n",
       "      <th></th>\n",
       "      <th></th>\n",
       "      <th></th>\n",
       "      <th></th>\n",
       "      <th></th>\n",
       "      <th></th>\n",
       "      <th></th>\n",
       "      <th></th>\n",
       "      <th></th>\n",
       "      <th></th>\n",
       "      <th></th>\n",
       "    </tr>\n",
       "  </thead>\n",
       "  <tbody>\n",
       "    <tr>\n",
       "      <th>2000</th>\n",
       "      <td>Kids</td>\n",
       "      <td>Training</td>\n",
       "      <td>SuperRep Go</td>\n",
       "      <td>M</td>\n",
       "      <td>NaN</td>\n",
       "      <td>NaN</td>\n",
       "      <td>0.47</td>\n",
       "      <td>0.0</td>\n",
       "      <td>2024-03-09</td>\n",
       "      <td>Online</td>\n",
       "      <td>bengaluru</td>\n",
       "      <td>-770.45</td>\n",
       "    </tr>\n",
       "    <tr>\n",
       "      <th>2001</th>\n",
       "      <td>Women</td>\n",
       "      <td>Soccer</td>\n",
       "      <td>Tiempo Legend</td>\n",
       "      <td>M</td>\n",
       "      <td>3.0</td>\n",
       "      <td>4957.93</td>\n",
       "      <td>NaN</td>\n",
       "      <td>0.0</td>\n",
       "      <td>2024-07-09</td>\n",
       "      <td>Retail</td>\n",
       "      <td>Hyd</td>\n",
       "      <td>-112.53</td>\n",
       "    </tr>\n",
       "    <tr>\n",
       "      <th>2002</th>\n",
       "      <td>Women</td>\n",
       "      <td>Soccer</td>\n",
       "      <td>Premier III</td>\n",
       "      <td>M</td>\n",
       "      <td>4.0</td>\n",
       "      <td>NaN</td>\n",
       "      <td>NaN</td>\n",
       "      <td>0.0</td>\n",
       "      <td>NaN</td>\n",
       "      <td>Retail</td>\n",
       "      <td>Mumbai</td>\n",
       "      <td>3337.34</td>\n",
       "    </tr>\n",
       "    <tr>\n",
       "      <th>2003</th>\n",
       "      <td>Kids</td>\n",
       "      <td>Lifestyle</td>\n",
       "      <td>Blazer Mid</td>\n",
       "      <td>L</td>\n",
       "      <td>NaN</td>\n",
       "      <td>9673.57</td>\n",
       "      <td>NaN</td>\n",
       "      <td>0.0</td>\n",
       "      <td>04-10-2024</td>\n",
       "      <td>Online</td>\n",
       "      <td>Pune</td>\n",
       "      <td>3376.85</td>\n",
       "    </tr>\n",
       "    <tr>\n",
       "      <th>2004</th>\n",
       "      <td>Kids</td>\n",
       "      <td>Running</td>\n",
       "      <td>React Infinity</td>\n",
       "      <td>XL</td>\n",
       "      <td>NaN</td>\n",
       "      <td>NaN</td>\n",
       "      <td>NaN</td>\n",
       "      <td>0.0</td>\n",
       "      <td>2024/09/12</td>\n",
       "      <td>Retail</td>\n",
       "      <td>Delhi</td>\n",
       "      <td>187.89</td>\n",
       "    </tr>\n",
       "    <tr>\n",
       "      <th>...</th>\n",
       "      <td>...</td>\n",
       "      <td>...</td>\n",
       "      <td>...</td>\n",
       "      <td>...</td>\n",
       "      <td>...</td>\n",
       "      <td>...</td>\n",
       "      <td>...</td>\n",
       "      <td>...</td>\n",
       "      <td>...</td>\n",
       "      <td>...</td>\n",
       "      <td>...</td>\n",
       "      <td>...</td>\n",
       "    </tr>\n",
       "    <tr>\n",
       "      <th>4495</th>\n",
       "      <td>Kids</td>\n",
       "      <td>Basketball</td>\n",
       "      <td>Kyrie Flytrap</td>\n",
       "      <td>XL</td>\n",
       "      <td>3.0</td>\n",
       "      <td>NaN</td>\n",
       "      <td>NaN</td>\n",
       "      <td>0.0</td>\n",
       "      <td>2025-05-14</td>\n",
       "      <td>Online</td>\n",
       "      <td>Pune</td>\n",
       "      <td>2.97</td>\n",
       "    </tr>\n",
       "    <tr>\n",
       "      <th>4496</th>\n",
       "      <td>Men</td>\n",
       "      <td>Basketball</td>\n",
       "      <td>Kyrie Flytrap</td>\n",
       "      <td>L</td>\n",
       "      <td>-1.0</td>\n",
       "      <td>NaN</td>\n",
       "      <td>NaN</td>\n",
       "      <td>0.0</td>\n",
       "      <td>NaN</td>\n",
       "      <td>Online</td>\n",
       "      <td>Hyd</td>\n",
       "      <td>-487.36</td>\n",
       "    </tr>\n",
       "    <tr>\n",
       "      <th>4497</th>\n",
       "      <td>Men</td>\n",
       "      <td>Soccer</td>\n",
       "      <td>Tiempo Legend</td>\n",
       "      <td>7</td>\n",
       "      <td>NaN</td>\n",
       "      <td>6647.60</td>\n",
       "      <td>0.52</td>\n",
       "      <td>0.0</td>\n",
       "      <td>02-07-2025</td>\n",
       "      <td>Retail</td>\n",
       "      <td>Bangalore</td>\n",
       "      <td>-918.14</td>\n",
       "    </tr>\n",
       "    <tr>\n",
       "      <th>4498</th>\n",
       "      <td>Women</td>\n",
       "      <td>Training</td>\n",
       "      <td>ZoomX Invincible</td>\n",
       "      <td>NaN</td>\n",
       "      <td>4.0</td>\n",
       "      <td>5358.70</td>\n",
       "      <td>NaN</td>\n",
       "      <td>0.0</td>\n",
       "      <td>11-12-2024</td>\n",
       "      <td>Online</td>\n",
       "      <td>Mumbai</td>\n",
       "      <td>3352.29</td>\n",
       "    </tr>\n",
       "    <tr>\n",
       "      <th>4499</th>\n",
       "      <td>Women</td>\n",
       "      <td>Running</td>\n",
       "      <td>Air Zoom</td>\n",
       "      <td>M</td>\n",
       "      <td>NaN</td>\n",
       "      <td>5550.99</td>\n",
       "      <td>NaN</td>\n",
       "      <td>0.0</td>\n",
       "      <td>23-11-2024</td>\n",
       "      <td>Retail</td>\n",
       "      <td>Mumbai</td>\n",
       "      <td>2453.57</td>\n",
       "    </tr>\n",
       "  </tbody>\n",
       "</table>\n",
       "<p>2500 rows × 12 columns</p>\n",
       "</div>"
      ],
      "text/plain": [
       "         Gender_Category Product_Line      Product_Name Size  Units_Sold  \\\n",
       "Order_ID                                                                   \n",
       "2000                Kids     Training       SuperRep Go    M         NaN   \n",
       "2001               Women       Soccer     Tiempo Legend    M         3.0   \n",
       "2002               Women       Soccer       Premier III    M         4.0   \n",
       "2003                Kids    Lifestyle        Blazer Mid    L         NaN   \n",
       "2004                Kids      Running    React Infinity   XL         NaN   \n",
       "...                  ...          ...               ...  ...         ...   \n",
       "4495                Kids   Basketball     Kyrie Flytrap   XL         3.0   \n",
       "4496                 Men   Basketball     Kyrie Flytrap    L        -1.0   \n",
       "4497                 Men       Soccer     Tiempo Legend    7         NaN   \n",
       "4498               Women     Training  ZoomX Invincible  NaN         4.0   \n",
       "4499               Women      Running          Air Zoom    M         NaN   \n",
       "\n",
       "              MRP  Discount_Applied  Revenue  Order_Date Sales_Channel  \\\n",
       "Order_ID                                                                 \n",
       "2000          NaN              0.47      0.0  2024-03-09        Online   \n",
       "2001      4957.93               NaN      0.0  2024-07-09        Retail   \n",
       "2002          NaN               NaN      0.0         NaN        Retail   \n",
       "2003      9673.57               NaN      0.0  04-10-2024        Online   \n",
       "2004          NaN               NaN      0.0  2024/09/12        Retail   \n",
       "...           ...               ...      ...         ...           ...   \n",
       "4495          NaN               NaN      0.0  2025-05-14        Online   \n",
       "4496          NaN               NaN      0.0         NaN        Online   \n",
       "4497      6647.60              0.52      0.0  02-07-2025        Retail   \n",
       "4498      5358.70               NaN      0.0  11-12-2024        Online   \n",
       "4499      5550.99               NaN      0.0  23-11-2024        Retail   \n",
       "\n",
       "             Region   Profit  \n",
       "Order_ID                      \n",
       "2000      bengaluru  -770.45  \n",
       "2001            Hyd  -112.53  \n",
       "2002         Mumbai  3337.34  \n",
       "2003           Pune  3376.85  \n",
       "2004          Delhi   187.89  \n",
       "...             ...      ...  \n",
       "4495           Pune     2.97  \n",
       "4496            Hyd  -487.36  \n",
       "4497      Bangalore  -918.14  \n",
       "4498         Mumbai  3352.29  \n",
       "4499         Mumbai  2453.57  \n",
       "\n",
       "[2500 rows x 12 columns]"
      ]
     },
     "execution_count": 3,
     "metadata": {},
     "output_type": "execute_result"
    }
   ],
   "source": [
    "df=pd.read_csv(r\"C:\\Users\\Pranav Shendge\\Downloads\\archive (2).zip\",header=0,index_col=0)\n",
    "df"
   ]
  },
  {
   "cell_type": "code",
   "execution_count": 9,
   "id": "afc32b64-2b17-4f7e-90ca-e75ed210e021",
   "metadata": {},
   "outputs": [
    {
     "name": "stdout",
     "output_type": "stream",
     "text": [
      "<class 'pandas.core.frame.DataFrame'>\n",
      "Index: 2500 entries, 2000 to 4499\n",
      "Data columns (total 12 columns):\n",
      " #   Column            Non-Null Count  Dtype  \n",
      "---  ------            --------------  -----  \n",
      " 0   Gender_Category   2500 non-null   object \n",
      " 1   Product_Line      2500 non-null   object \n",
      " 2   Product_Name      2500 non-null   object \n",
      " 3   Size              1990 non-null   object \n",
      " 4   Units_Sold        1265 non-null   float64\n",
      " 5   MRP               1246 non-null   float64\n",
      " 6   Discount_Applied  832 non-null    float64\n",
      " 7   Revenue           2500 non-null   float64\n",
      " 8   Order_Date        1884 non-null   object \n",
      " 9   Sales_Channel     2500 non-null   object \n",
      " 10  Region            2500 non-null   object \n",
      " 11  Profit            2500 non-null   float64\n",
      "dtypes: float64(5), object(7)\n",
      "memory usage: 253.9+ KB\n"
     ]
    }
   ],
   "source": [
    "df.info()\n"
   ]
  },
  {
   "cell_type": "code",
   "execution_count": 5,
   "id": "4d6c6351-e2c4-43cf-a6ab-c28062bfceb5",
   "metadata": {},
   "outputs": [
    {
     "data": {
      "text/plain": [
       "Gender_Category        0\n",
       "Product_Line           0\n",
       "Product_Name           0\n",
       "Size                 510\n",
       "Units_Sold          1235\n",
       "MRP                 1254\n",
       "Discount_Applied    1668\n",
       "Revenue                0\n",
       "Order_Date           616\n",
       "Sales_Channel          0\n",
       "Region                 0\n",
       "Profit                 0\n",
       "dtype: int64"
      ]
     },
     "execution_count": 5,
     "metadata": {},
     "output_type": "execute_result"
    }
   ],
   "source": [
    "#1 Are there any missing values in the dataset?\n",
    "df.isnull().sum()"
   ]
  },
  {
   "cell_type": "code",
   "execution_count": 11,
   "id": "62b92d0d-8905-4569-8152-7446776f81c1",
   "metadata": {},
   "outputs": [
    {
     "data": {
      "text/plain": [
       "np.int64(0)"
      ]
     },
     "execution_count": 11,
     "metadata": {},
     "output_type": "execute_result"
    }
   ],
   "source": [
    "#2 Checking for Duplicate Records\n",
    "df.duplicated().sum()"
   ]
  },
  {
   "cell_type": "code",
   "execution_count": 21,
   "id": "093fdfe5-083f-42e5-833b-8aaf929a6924",
   "metadata": {},
   "outputs": [
    {
     "data": {
      "text/plain": [
       "array(['Kids', 'Women', 'Men'], dtype=object)"
      ]
     },
     "execution_count": 21,
     "metadata": {},
     "output_type": "execute_result"
    }
   ],
   "source": [
    "#3 What are the unique gender categories?\n",
    "df['Gender_Category'].unique()"
   ]
  },
  {
   "cell_type": "code",
   "execution_count": 22,
   "id": "aed9e2fc-9eb3-4d90-94ce-5622b98bfdbf",
   "metadata": {},
   "outputs": [
    {
     "data": {
      "text/plain": [
       "Gender_Category\n",
       "Kids     841\n",
       "Men      840\n",
       "Women    819\n",
       "Name: count, dtype: int64"
      ]
     },
     "execution_count": 22,
     "metadata": {},
     "output_type": "execute_result"
    }
   ],
   "source": [
    "#4 Count of orders per gender\n",
    "df['Gender_Category'].value_counts()"
   ]
  },
  {
   "cell_type": "code",
   "execution_count": 23,
   "id": "1b23e26a-d451-4537-9d19-55b3c50fd70f",
   "metadata": {},
   "outputs": [
    {
     "data": {
      "text/plain": [
       "Product_Line\n",
       "Training      195552.89\n",
       "Basketball    155292.42\n",
       "Lifestyle     148870.70\n",
       "Soccer        115392.33\n",
       "Running        72075.95\n",
       "Name: Revenue, dtype: float64"
      ]
     },
     "execution_count": 23,
     "metadata": {},
     "output_type": "execute_result"
    }
   ],
   "source": [
    "#5 Which product line has the highest total revenue?\n",
    "df.groupby('Product_Line')['Revenue'].sum().sort_values(ascending=False).head(5)"
   ]
  },
  {
   "cell_type": "code",
   "execution_count": 24,
   "id": "fc1392b4-e0de-4966-a910-17b9b8cc6813",
   "metadata": {},
   "outputs": [
    {
     "data": {
      "text/plain": [
       "Region\n",
       "Kolkata      602856.74\n",
       "Delhi        587148.93\n",
       "Mumbai       569568.34\n",
       "Pune         533414.77\n",
       "Bangalore    326694.84\n",
       "Name: Profit, dtype: float64"
      ]
     },
     "execution_count": 24,
     "metadata": {},
     "output_type": "execute_result"
    }
   ],
   "source": [
    "#6 Which region generated the highest total profit?\n",
    "df.groupby('Region')['Profit'].sum().sort_values(ascending=False).head(5)"
   ]
  },
  {
   "cell_type": "code",
   "execution_count": 33,
   "id": "5871c994-7aaa-45bc-89c3-1a495162de3b",
   "metadata": {},
   "outputs": [
    {
     "data": {
      "text/plain": [
       "(37169.35, -7561.59)"
      ]
     },
     "execution_count": 33,
     "metadata": {},
     "output_type": "execute_result"
    }
   ],
   "source": [
    "#7 find the maximum and minimum revenue value\n",
    "df['Revenue'].max(), df['Revenue'].min()"
   ]
  },
  {
   "cell_type": "code",
   "execution_count": 35,
   "id": "3206853d-a81f-4335-966a-e80fcaa04ea7",
   "metadata": {},
   "outputs": [
    {
     "data": {
      "image/png": "[encoded data removed]",
      "text/plain": [
       "<Figure size 640x480 with 1 Axes>"
      ]
     },
     "metadata": {},
     "output_type": "display_data"
    }
   ],
   "source": [
    "#8 Plot the distribution of product prices (MRP)\n",
    "sns.histplot(df['MRP'].dropna(), bins=25, color='blue')\n",
    "plt.title(\"Distribution of Product Prices (MRP)\")\n",
    "plt.show()"
   ]
  },
  {
   "cell_type": "code",
   "execution_count": 42,
   "id": "8c09004f-81dc-4be5-bc7d-0ed641cdda85",
   "metadata": {},
   "outputs": [
    {
     "data": {
      "text/plain": [
       "['Blazer Mid',\n",
       " 'Flex Trainer',\n",
       " 'SuperRep Go',\n",
       " 'Waffle One',\n",
       " 'Flex Trainer',\n",
       " 'SuperRep Go',\n",
       " 'Air Jordan',\n",
       " 'Free RN',\n",
       " 'Waffle One',\n",
       " 'Kyrie Flytrap']"
      ]
     },
     "execution_count": 42,
     "metadata": {},
     "output_type": "execute_result"
    }
   ],
   "source": [
    "#9 Create a list of all products with MRP above 5000 using list comprehension\n",
    "high_price_products = [x for x in df['Product_Name'][df['MRP'] > 5000]]\n",
    "high_price_products[:10]"
   ]
  },
  {
   "cell_type": "code",
   "execution_count": 43,
   "id": "f4cfa90d-611f-40bf-8b21-d97e79548c6e",
   "metadata": {},
   "outputs": [
    {
     "data": {
      "text/plain": [
       "[0, 4, 14, 22, 27, 30, 42, 44, 46, 48]"
      ]
     },
     "execution_count": 43,
     "metadata": {},
     "output_type": "execute_result"
    }
   ],
   "source": [
    "#10 Find which rows have both missing Size and missing Units_Sold using list comprehension\n",
    "missing_rows = [i for i in range(len(df)) if pd.isna(df.iloc[i, 4]) and pd.isna(df.iloc[i, 5])]\n",
    "missing_rows[:10]"
   ]
  },
  {
   "cell_type": "code",
   "execution_count": null,
   "id": "54e93eba-ee8a-4c0d-8dbf-dabc5b5932e5",
   "metadata": {},
   "outputs": [],
   "source": []
  },
  {
   "cell_type": "code",
   "execution_count": null,
   "id": "2951968a-e166-42cc-a5dc-7dac7c7f4f90",
   "metadata": {},
   "outputs": [],
   "source": []
  },
  {
   "cell_type": "code",
   "execution_count": null,
   "id": "7c53df3e-65e4-4329-8fc8-19208ad0f5d5",
   "metadata": {},
   "outputs": [],
   "source": []
  },
  {
   "cell_type": "code",
   "execution_count": null,
   "id": "85feff6e-bb40-4be5-8689-879a250df443",
   "metadata": {},
   "outputs": [],
   "source": []
  },
  {
   "cell_type": "code",
   "execution_count": null,
   "id": "7606b9be-2b0e-4099-9b07-9adf141c0169",
   "metadata": {},
   "outputs": [],
   "source": []
  },
  {
   "cell_type": "code",
   "execution_count": null,
   "id": "8144268b-ece6-41e5-9b04-065198be6e4a",
   "metadata": {},
   "outputs": [],
   "source": []
  },
  {
   "cell_type": "code",
   "execution_count": null,
   "id": "4f8716cd-c913-41cd-8f64-3f3f78d1e725",
   "metadata": {},
   "outputs": [],
   "source": []
  },
  {
   "cell_type": "code",
   "execution_count": null,
   "id": "f8330288-e2c2-4973-8ec7-070f4ae7bac4",
   "metadata": {},
   "outputs": [],
   "source": []
  },
  {
   "cell_type": "code",
   "execution_count": null,
   "id": "22829f5e-97b8-4a57-bd74-00c0b51140a3",
   "metadata": {},
   "outputs": [],
   "source": []
  }
 ],
 "metadata": {
  "kernelspec": {
   "display_name": "Python 3 (ipykernel)",
   "language": "python",
   "name": "python3"
  },
  "language_info": {
   "codemirror_mode": {
    "name": "ipython",
    "version": 3
   },
   "file_extension": ".py",
   "mimetype": "text/x-python",
   "name": "python",
   "nbconvert_exporter": "python",
   "pygments_lexer": "ipython3",
   "version": "3.13.5"
  }
 },
 "nbformat": 4,
 "nbformat_minor": 5
}
